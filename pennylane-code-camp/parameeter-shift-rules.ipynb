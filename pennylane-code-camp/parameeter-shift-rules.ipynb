{
 "cells": [
  {
   "cell_type": "markdown",
   "metadata": {},
   "source": [
    "#### 1."
   ]
  },
  {
   "cell_type": "code",
   "execution_count": 1,
   "metadata": {},
   "outputs": [],
   "source": [
    "import functools\n",
    "import json\n",
    "import math\n",
    "import pandas as pd\n",
    "import pennylane as qml\n",
    "import pennylane.numpy as np\n",
    "import scipy\n",
    "\n",
    "dev = qml.device(\"default.qubit\", wires=2)\n",
    "\n",
    "@qml.qnode(dev)\n",
    "def circuit(params):\n",
    "    \"\"\"The quantum circuit that you will differentiate!\n",
    "\n",
    "    Args:\n",
    "        params (list(float)): The parameters for gates in the circuit\n",
    "\n",
    "    Returns:\n",
    "        (numpy.array): An expectation value.\n",
    "    \"\"\"\n",
    "    qml.RY(params[0], 0)\n",
    "    qml.RX(params[1], 1)\n",
    "    return qml.expval(qml.PauliZ(0) + qml.PauliZ(1))\n",
    "\n",
    "\n",
    "def my_parameter_shift_grad(params, shift):\n",
    "    \"\"\"Your homemade parameter-shift rule function.\n",
    "    \n",
    "    NOTE: you cannot use qml.grad within this function\n",
    "\n",
    "    Args:\n",
    "        params (list(float)): The parameters for gates in the circuit\n",
    "\n",
    "    Returns:\n",
    "        gradient (numpy.array): The gradient of the circuit with respect to the given parameters.\n",
    "    \"\"\"\n",
    "    gradient = np.zeros_like(params)\n",
    "\n",
    "    for i in range(len(params)):\n",
    "        # Put your code here #\n",
    "        shift_vec = np.zeros_like(params)\n",
    "        shift_vec[i] = 1\n",
    "        shift_vec = shift * shift_vec\n",
    "        params_tmp_p = params + shift_vec \n",
    "        params_tmp_n = params - shift_vec\n",
    "        gradient[i] = (circuit(params_tmp_p) - circuit(params_tmp_n))/(2*np.sin(shift))\n",
    "        \n",
    "\n",
    "    return np.round_(gradient, decimals=5).tolist()\n",
    "\n"
   ]
  },
  {
   "cell_type": "code",
   "execution_count": 26,
   "metadata": {},
   "outputs": [],
   "source": [
    "params = [0.75, 1.0]\n",
    "shift = 1.23               \n",
    "gradient = np.zeros_like(params)\n",
    "\n",
    "for i in range(len(params)):\n",
    "    # Put your code here #\n",
    "    shift_vec = np.zeros_like(params)\n",
    "    shift_vec[i] = 1\n",
    "    shift_vec = shift * shift_vec\n",
    "    params_tmp_p = params + shift_vec \n",
    "    params_tmp_n = params - shift_vec\n",
    "    gradient[i] = (circuit(params_tmp_p) - circuit(params_tmp_n))/(2*np.sin(shift))\n",
    "    \n"
   ]
  },
  {
   "cell_type": "code",
   "execution_count": 27,
   "metadata": {},
   "outputs": [
    {
     "data": {
      "text/plain": [
       "tensor([-0.68163876, -0.84147098], requires_grad=True)"
      ]
     },
     "execution_count": 27,
     "metadata": {},
     "output_type": "execute_result"
    }
   ],
   "source": [
    "gradient"
   ]
  },
  {
   "cell_type": "code",
   "execution_count": 17,
   "metadata": {},
   "outputs": [],
   "source": [
    "\n",
    "params_tmp_n[0] =  params[0] - shift"
   ]
  },
  {
   "cell_type": "code",
   "execution_count": 15,
   "metadata": {},
   "outputs": [],
   "source": [
    "params_tmp_p[0] = params[0] + shift"
   ]
  },
  {
   "cell_type": "code",
   "execution_count": 18,
   "metadata": {},
   "outputs": [
    {
     "data": {
      "text/plain": [
       "([0.75, 1.0], [0.75, 1.0])"
      ]
     },
     "execution_count": 18,
     "metadata": {},
     "output_type": "execute_result"
    }
   ],
   "source": [
    "params_tmp_n, params_tmp_p"
   ]
  },
  {
   "cell_type": "code",
   "execution_count": 29,
   "metadata": {},
   "outputs": [
    {
     "name": "stdout",
     "output_type": "stream",
     "text": [
      "Running test case 0 with input '[[0.75, 1.0], 1.23]'...\n",
      "Correct!\n"
     ]
    }
   ],
   "source": [
    "\n",
    "# These functions are responsible for testing the solution.\n",
    "\n",
    "def run(test_case_input: str) -> str:\n",
    "    params, shift = json.loads(test_case_input)\n",
    "    gradient = my_parameter_shift_grad(params, shift)\n",
    "    return str(gradient)\n",
    "\n",
    "def check(solution_output: str, expected_output: str) -> None:\n",
    "    solution_output = json.loads(solution_output)\n",
    "    expected_output = json.loads(expected_output)\n",
    "    assert np.allclose(\n",
    "        solution_output, expected_output, rtol=1e-4\n",
    "    ), \"Your gradient isn't quite right!\"\n",
    "\n",
    "\n",
    "test_cases = [['[[0.75, 1.0], 1.23]', '[-0.68164, -0.84147]']]\n",
    "\n",
    "for i, (input_, expected_output) in enumerate(test_cases):\n",
    "    print(f\"Running test case {i} with input '{input_}'...\")\n",
    "\n",
    "    try:\n",
    "        output = run(input_)\n",
    "\n",
    "    except Exception as exc:\n",
    "        print(f\"Runtime Error. {exc}\")\n",
    "\n",
    "    else:\n",
    "        if message := check(output, expected_output):\n",
    "            print(f\"Wrong Answer. Have: '{output}'. Want: '{expected_output}'.\")\n",
    "\n",
    "        else:\n",
    "            print(\"Correct!\")"
   ]
  },
  {
   "cell_type": "code",
   "execution_count": null,
   "metadata": {},
   "outputs": [],
   "source": []
  },
  {
   "cell_type": "markdown",
   "metadata": {},
   "source": [
    "#### 2."
   ]
  },
  {
   "cell_type": "code",
   "execution_count": 2,
   "metadata": {},
   "outputs": [],
   "source": [
    "import functools\n",
    "import json\n",
    "import math\n",
    "import pandas as pd\n",
    "import pennylane as qml\n",
    "import pennylane.numpy as np\n",
    "import scipy\n",
    "\n",
    "dev = qml.device(\"default.qubit\", wires=3)\n",
    "\n",
    "@qml.qnode(dev)\n",
    "def circuit(params):\n",
    "    \"\"\"The quantum circuit that you will differentiate!\n",
    "\n",
    "    Args:\n",
    "        params (list(float)): The parameters for gates in the circuit\n",
    "    \n",
    "    Returns:\n",
    "        (numpy.array): An expectation value. \n",
    "    \"\"\"\n",
    "    qml.broadcast(qml.Hadamard, wires=range(3), pattern=\"single\")\n",
    "    qml.CRX(params[0], [1, 2])\n",
    "    qml.CRY(params[1], [0, 1])\n",
    "    qml.CRZ(params[2], [2, 0])\n",
    "    return qml.expval(qml.PauliZ(0) + qml.PauliZ(1) + qml.PauliX(2))\n",
    "\n"
   ]
  },
  {
   "cell_type": "code",
   "execution_count": 3,
   "metadata": {},
   "outputs": [
    {
     "name": "stdout",
     "output_type": "stream",
     "text": [
      "Running test case 0 with input '[1.23, 0.6, 4.56]'...\n"
     ]
    },
    {
     "ename": "AssertionError",
     "evalue": "Your gradient isn't quite right!",
     "output_type": "error",
     "traceback": [
      "\u001b[0;31m---------------------------------------------------------------------------\u001b[0m",
      "\u001b[0;31mAssertionError\u001b[0m                            Traceback (most recent call last)",
      "\u001b[1;32m/home/rajarsi/Documents/qhaqs22/submission-repo/pennylane-code-camp/parameeter-shift-rules.ipynb Cell 12\u001b[0m in \u001b[0;36m<cell line: 70>\u001b[0;34m()\u001b[0m\n\u001b[1;32m     <a href='vscode-notebook-cell:/home/rajarsi/Documents/qhaqs22/submission-repo/pennylane-code-camp/parameeter-shift-rules.ipynb#X14sZmlsZQ%3D%3D?line=76'>77</a>\u001b[0m     \u001b[39mprint\u001b[39m(\u001b[39mf\u001b[39m\u001b[39m\"\u001b[39m\u001b[39mRuntime Error. \u001b[39m\u001b[39m{\u001b[39;00mexc\u001b[39m}\u001b[39;00m\u001b[39m\"\u001b[39m)\n\u001b[1;32m     <a href='vscode-notebook-cell:/home/rajarsi/Documents/qhaqs22/submission-repo/pennylane-code-camp/parameeter-shift-rules.ipynb#X14sZmlsZQ%3D%3D?line=78'>79</a>\u001b[0m \u001b[39melse\u001b[39;00m:\n\u001b[0;32m---> <a href='vscode-notebook-cell:/home/rajarsi/Documents/qhaqs22/submission-repo/pennylane-code-camp/parameeter-shift-rules.ipynb#X14sZmlsZQ%3D%3D?line=79'>80</a>\u001b[0m     \u001b[39mif\u001b[39;00m message \u001b[39m:=\u001b[39m check(output, expected_output):\n\u001b[1;32m     <a href='vscode-notebook-cell:/home/rajarsi/Documents/qhaqs22/submission-repo/pennylane-code-camp/parameeter-shift-rules.ipynb#X14sZmlsZQ%3D%3D?line=80'>81</a>\u001b[0m         \u001b[39mprint\u001b[39m(\u001b[39mf\u001b[39m\u001b[39m\"\u001b[39m\u001b[39mWrong Answer. Have: \u001b[39m\u001b[39m'\u001b[39m\u001b[39m{\u001b[39;00moutput\u001b[39m}\u001b[39;00m\u001b[39m'\u001b[39m\u001b[39m. Want: \u001b[39m\u001b[39m'\u001b[39m\u001b[39m{\u001b[39;00mexpected_output\u001b[39m}\u001b[39;00m\u001b[39m'\u001b[39m\u001b[39m.\u001b[39m\u001b[39m\"\u001b[39m)\n\u001b[1;32m     <a href='vscode-notebook-cell:/home/rajarsi/Documents/qhaqs22/submission-repo/pennylane-code-camp/parameeter-shift-rules.ipynb#X14sZmlsZQ%3D%3D?line=83'>84</a>\u001b[0m     \u001b[39melse\u001b[39;00m:\n",
      "\u001b[1;32m/home/rajarsi/Documents/qhaqs22/submission-repo/pennylane-code-camp/parameeter-shift-rules.ipynb Cell 12\u001b[0m in \u001b[0;36mcheck\u001b[0;34m(solution_output, expected_output)\u001b[0m\n\u001b[1;32m     <a href='vscode-notebook-cell:/home/rajarsi/Documents/qhaqs22/submission-repo/pennylane-code-camp/parameeter-shift-rules.ipynb#X14sZmlsZQ%3D%3D?line=60'>61</a>\u001b[0m solution_output \u001b[39m=\u001b[39m json\u001b[39m.\u001b[39mloads(solution_output)\n\u001b[1;32m     <a href='vscode-notebook-cell:/home/rajarsi/Documents/qhaqs22/submission-repo/pennylane-code-camp/parameeter-shift-rules.ipynb#X14sZmlsZQ%3D%3D?line=61'>62</a>\u001b[0m expected_output \u001b[39m=\u001b[39m json\u001b[39m.\u001b[39mloads(expected_output)\n\u001b[0;32m---> <a href='vscode-notebook-cell:/home/rajarsi/Documents/qhaqs22/submission-repo/pennylane-code-camp/parameeter-shift-rules.ipynb#X14sZmlsZQ%3D%3D?line=62'>63</a>\u001b[0m \u001b[39massert\u001b[39;00m np\u001b[39m.\u001b[39mallclose(\n\u001b[1;32m     <a href='vscode-notebook-cell:/home/rajarsi/Documents/qhaqs22/submission-repo/pennylane-code-camp/parameeter-shift-rules.ipynb#X14sZmlsZQ%3D%3D?line=63'>64</a>\u001b[0m     solution_output, expected_output, rtol\u001b[39m=\u001b[39m\u001b[39m1e-4\u001b[39m\n\u001b[1;32m     <a href='vscode-notebook-cell:/home/rajarsi/Documents/qhaqs22/submission-repo/pennylane-code-camp/parameeter-shift-rules.ipynb#X14sZmlsZQ%3D%3D?line=64'>65</a>\u001b[0m ), \u001b[39m\"\u001b[39m\u001b[39mYour gradient isn\u001b[39m\u001b[39m'\u001b[39m\u001b[39mt quite right!\u001b[39m\u001b[39m\"\u001b[39m\n",
      "\u001b[0;31mAssertionError\u001b[0m: Your gradient isn't quite right!"
     ]
    }
   ],
   "source": [
    "\n",
    "def shifts_and_coeffs():\n",
    "    \"\"\"A function that defines the shift amounts and coefficients needed for\n",
    "    defining a parameter-shift rule for CRX, CRY, and CRZ gates.\n",
    "\n",
    "    Returns:\n",
    "        shifts (list(float)): A list of shift amounts. Order them however you want!\n",
    "        coeffs (list(float)): A list of coefficients. Order them however you want!\n",
    "    \"\"\"\n",
    "    # Put your code here and make sure to return what is needed #\n",
    "    shifts = np.array([np.pi/2 + np.pi/4, np.pi/2 - np.pi/4])\n",
    "    \n",
    "    \n",
    "    coeffs = np.array([ np.sqrt(2) + 1, np.sqrt(2) - 1 ])/(2 * np.sqrt(2))\n",
    "\n",
    "    return shifts , coeffs\n",
    "\n",
    "def my_parameter_shift_grad(params):\n",
    "    \"\"\"Your homemade parameter-shift rule function!\n",
    "    NOTE: you cannot use qml.grad within this function\n",
    "\n",
    "    ref: https://arxiv.org/pdf/2107.12390.pdf Sec 2.2 , Eq. 8\n",
    "    Args:\n",
    "        params (list(float)): The parameters for gates in the circuit\n",
    "    \n",
    "    Returns:\n",
    "        gradient (numpy.array): The gradient of the circuit with respect to the given parameters.\n",
    "    \"\"\"\n",
    "    \n",
    "    gradient = np.zeros_like(params)\n",
    "\n",
    "    shifts, coeffs = shifts_and_coeffs()\n",
    "\n",
    "    for i in range(len(params)):\n",
    "        # Put your code here\n",
    "        grad = []\n",
    "        for sfs in range(len(shifts)) :\n",
    "            \n",
    "            shift = shifts[sfs]\n",
    "            coeff = coeffs[sfs]\n",
    "            \n",
    "            shift_vec = np.zeros_like(params)\n",
    "            shift_vec[i] = 1\n",
    "            \n",
    "            shift_vec = shift * shift_vec\n",
    "            params_tmp_p = params + shift_vec \n",
    "            params_tmp_n = params - shift_vec\n",
    "            grad.append( (circuit(params_tmp_p) - circuit(params_tmp_n)) * coeff )\n",
    "\n",
    "        gradient[i] = grad[0] - grad[1]\n",
    "        \n",
    "    \n",
    "    return np.round_(gradient, decimals=5).tolist()\n",
    "\n",
    "\n",
    "# These functions are responsible for testing the solution.\n",
    "\n",
    "def run(test_case_input: str) -> str:\n",
    "    params = json.loads(test_case_input)\n",
    "    gradient = my_parameter_shift_grad(params)\n",
    "    return str(gradient)\n",
    "\n",
    "def check(solution_output: str, expected_output: str) -> None:\n",
    "    solution_output = json.loads(solution_output)\n",
    "    expected_output = json.loads(expected_output)\n",
    "    assert np.allclose(\n",
    "        solution_output, expected_output, rtol=1e-4\n",
    "    ), \"Your gradient isn't quite right!\"\n",
    "\n",
    "\n",
    "test_cases = [['[1.23, 0.6, 4.56]', '[0.08144, -0.33706, -0.37944]']]\n",
    "\n",
    "for i, (input_, expected_output) in enumerate(test_cases):\n",
    "    print(f\"Running test case {i} with input '{input_}'...\")\n",
    "\n",
    "    try:\n",
    "        output = run(input_)\n",
    "\n",
    "    except Exception as exc:\n",
    "        print(f\"Runtime Error. {exc}\")\n",
    "\n",
    "    else:\n",
    "        if message := check(output, expected_output):\n",
    "            print(f\"Wrong Answer. Have: '{output}'. Want: '{expected_output}'.\")\n",
    "\n",
    "\n",
    "        else:\n",
    "            print(\"Correct!\")"
   ]
  },
  {
   "cell_type": "code",
   "execution_count": null,
   "metadata": {},
   "outputs": [],
   "source": []
  }
 ],
 "metadata": {
  "kernelspec": {
   "display_name": "Python 3.10.6 64-bit",
   "language": "python",
   "name": "python3"
  },
  "language_info": {
   "codemirror_mode": {
    "name": "ipython",
    "version": 3
   },
   "file_extension": ".py",
   "mimetype": "text/x-python",
   "name": "python",
   "nbconvert_exporter": "python",
   "pygments_lexer": "ipython3",
   "version": "3.10.6"
  },
  "orig_nbformat": 4,
  "vscode": {
   "interpreter": {
    "hash": "916dbcbb3f70747c44a77c7bcd40155683ae19c65e1c03b4aa3499c5328201f1"
   }
  }
 },
 "nbformat": 4,
 "nbformat_minor": 2
}
