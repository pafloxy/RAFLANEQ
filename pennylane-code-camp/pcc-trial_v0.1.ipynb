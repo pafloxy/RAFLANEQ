{
 "cells": [
  {
   "cell_type": "code",
   "execution_count": 1,
   "metadata": {},
   "outputs": [],
   "source": [
    "import functools\n",
    "import json\n",
    "import math\n",
    "import pandas as pd\n",
    "import pennylane as qml\n",
    "import pennylane.numpy as np\n",
    "import scipy\n",
    "# import functools\n",
    "# import json\n",
    "# import math\n",
    "# import pandas as pd\n",
    "# import pennylane as qml\n",
    "# import pennylane.numpy as np\n",
    "# import scipy"
   ]
  },
  {
   "cell_type": "markdown",
   "metadata": {},
   "source": [
    "#### Quantum FOurier Challenge"
   ]
  },
  {
   "cell_type": "code",
   "execution_count": 8,
   "metadata": {},
   "outputs": [],
   "source": [
    "def fourier_squared_distance(list_of_coeffs, param_list):\n",
    "    \"\"\"\n",
    "    Returns the squared l2-distance in Fourier space between a function\n",
    "    characterized by its Fourier coefficients and the output of the\n",
    "    quantum model\n",
    "\n",
    "    Args:\n",
    "        list_of coeffs (list(float)): A list of seven coefficients\n",
    "                                      corresponding to the Fourier\n",
    "                                      coefficients of the function we\n",
    "                                      want to approximate\n",
    "        param_list (list(float)): A list of six parameters characterizing\n",
    "                                  the angles in the trainable circuit.\n",
    "\n",
    "    Returns: (float): Squared l2-distance between the given function\n",
    "                      and the output of the quantum model\n",
    "    \"\"\"\n",
    "\n",
    "    dev = qml.device(\"default.qubit\", wires=3)\n",
    "\n",
    "    # Feel free to define any helper functions, such as subcircuits, here.\n",
    "\n",
    "\n",
    "    def entanglers(params):\n",
    "        \"\"\" params = shape (3,1) array\"\"\"\n",
    "\n",
    "        for i, param in enumerate(params): qml.RX(param, wires=[i])\n",
    "        qml.CNOT(wires= [0,1])\n",
    "        qml.CNOT(wires= [1,2])\n",
    "        qml.CNOT(wires= [2,1])\n",
    "    \n",
    "    def encoder(x):\n",
    "        for i in range(3):\n",
    "            qml.RX(x, wires=[i])\n",
    "\n",
    "    @qml.qnode(dev)\n",
    "    def circuit(param_list, x):\n",
    "        \"\"\"This circuit returns the PauliZ expectation of\n",
    "        the quantum model in the statement\"\"\"\n",
    "\n",
    "        entanglers(param_list[:3])\n",
    "\n",
    "        encoder(x)\n",
    "\n",
    "        entanglers(param_list[3:])\n",
    "\n",
    "        return qml.expval(qml.PauliZ(0))\n",
    "    \n",
    "    def fourier_coefficients(f,t, K):\n",
    "        \"\"\"\n",
    "        Computes the first 2*K+1 Fourier coefficients of a 2*pi periodic function.\n",
    "        \"\"\"\n",
    "        n_coeffs = 2 * K + 1\n",
    "        \n",
    "        y = np.fft.rfft(f(t)) / t.size\n",
    "        return y\n",
    "    \n",
    "    t = np.linspace(0, 2 * np.pi, 7, endpoint=False)\n",
    "    def f(x):\n",
    "        return np.array([circuit(param_list, x_) for x_ in x])\n",
    "    \n",
    "    calc_coefficients = fourier_coefficients(f,t, 3)\n",
    "\n",
    "\n",
    "    l2_norm = lambda c1,c2 :  np.sum([ np.abs(c1[j] - c2[j])**2 for j in range(len(list_of_coeffs)) ])   \n",
    "\n",
    "    # Write a function that calculates the squared l2-distance here\n",
    "    print(list_of_coeffs)\n",
    "    print(calc_coefficients)\n",
    "    \n",
    "    return l2_norm(list_of_coeffs, calc_coefficients)\n",
    "    # Return your final answer here"
   ]
  },
  {
   "cell_type": "code",
   "execution_count": 10,
   "metadata": {},
   "outputs": [
    {
     "data": {
      "text/plain": [
       "[tensor(0.41198225, requires_grad=True),\n",
       " tensor(0.30278107, requires_grad=True),\n",
       " tensor(-0.03442043, requires_grad=True),\n",
       " tensor(-0.34570264, requires_grad=True),\n",
       " tensor(-0.39666371, requires_grad=True),\n",
       " tensor(-0.14892892, requires_grad=True),\n",
       " tensor(0.21095239, requires_grad=True)]"
      ]
     },
     "execution_count": 10,
     "metadata": {},
     "output_type": "execute_result"
    }
   ],
   "source": [
    "dev = qml.device(\"default.qubit\", wires=3)\n",
    "\n",
    "# Feel free to define any helper functions, such as subcircuits, here.\n",
    "\n",
    "\n",
    "def entanglers(params):\n",
    "    \"\"\" params = shape (3,1) array\"\"\"\n",
    "\n",
    "    for i, param in enumerate(params): qml.RX(param, wires=[i])\n",
    "    qml.CNOT(wires= [0,1])\n",
    "    qml.CNOT(wires= [1,2])\n",
    "    qml.CNOT(wires= [2,1])\n",
    "\n",
    "def encoder(x):\n",
    "    for i in range(3):\n",
    "        qml.RX(x, wires=[i])\n",
    "\n",
    "@qml.qnode(dev)\n",
    "def circuit(param_list, x):\n",
    "    \"\"\"This circuit returns the PauliZ expectation of\n",
    "    the quantum model in the statement\"\"\"\n",
    "\n",
    "    entanglers(param_list[:3])\n",
    "\n",
    "    encoder(x)\n",
    "\n",
    "    entanglers(param_list[3:])\n",
    "\n",
    "    return qml.expval(qml.PauliZ(0))\n",
    "\n",
    "def fourier_coefficients(f,t, K):\n",
    "    \"\"\"\n",
    "    Computes the first 2*K+1 Fourier coefficients of a 2*pi periodic function.\n",
    "    \"\"\"\n",
    "    n_coeffs = 2 * K + 1\n",
    "    \n",
    "    y = np.fft.rfft(f(t)) / t.size\n",
    "    return y\n",
    "\n",
    "param_list = [2,2,2,3,4,5]\n",
    "t = np.linspace(0, 2 * np.pi, 7, endpoint=False)\n",
    "[circuit(param_list, x_) for x_ in t]"
   ]
  },
  {
   "cell_type": "code",
   "execution_count": 9,
   "metadata": {},
   "outputs": [
    {
     "name": "stdout",
     "output_type": "stream",
     "text": [
      "[-0.112422548, 0.0, 0.094790994, 0.0, 0.0, 0.094790994, 0.0]\n",
      "[1.58603289e-17+0.00000000e+00j 2.05991123e-01-2.93633225e-02j\n",
      " 0.00000000e+00-3.96508223e-17j 1.58603289e-17-9.91270558e-19j]\n"
     ]
    },
    {
     "ename": "IndexError",
     "evalue": "index 4 is out of bounds for axis 0 with size 4",
     "output_type": "error",
     "traceback": [
      "\u001b[0;31m---------------------------------------------------------------------------\u001b[0m",
      "\u001b[0;31mIndexError\u001b[0m                                Traceback (most recent call last)",
      "\u001b[1;32m/home/rajarsi/Documents/qhaqs22/submission-repo/pennylane-code-camp/pcc-trial_v0.1.ipynb Cell 4\u001b[0m in \u001b[0;36m<cell line: 1>\u001b[0;34m()\u001b[0m\n\u001b[0;32m----> <a href='vscode-notebook-cell:/home/rajarsi/Documents/qhaqs22/submission-repo/pennylane-code-camp/pcc-trial_v0.1.ipynb#X16sZmlsZQ%3D%3D?line=0'>1</a>\u001b[0m fourier_squared_distance([\u001b[39m-\u001b[39;49m\u001b[39m1.12422548e-01\u001b[39;49m,  \u001b[39m0.0\u001b[39;49m, \u001b[39m9.47909940e-02\u001b[39;49m, \u001b[39m0.0\u001b[39;49m, \u001b[39m0.0\u001b[39;49m, \u001b[39m9.47909940e-02\u001b[39;49m, \u001b[39m0.0\u001b[39;49m],[\u001b[39m2\u001b[39;49m,\u001b[39m2\u001b[39;49m,\u001b[39m2\u001b[39;49m,\u001b[39m3\u001b[39;49m,\u001b[39m4\u001b[39;49m,\u001b[39m5\u001b[39;49m])\n",
      "\u001b[1;32m/home/rajarsi/Documents/qhaqs22/submission-repo/pennylane-code-camp/pcc-trial_v0.1.ipynb Cell 4\u001b[0m in \u001b[0;36mfourier_squared_distance\u001b[0;34m(list_of_coeffs, param_list)\u001b[0m\n\u001b[1;32m     <a href='vscode-notebook-cell:/home/rajarsi/Documents/qhaqs22/submission-repo/pennylane-code-camp/pcc-trial_v0.1.ipynb#X16sZmlsZQ%3D%3D?line=67'>68</a>\u001b[0m \u001b[39mprint\u001b[39m(list_of_coeffs)\n\u001b[1;32m     <a href='vscode-notebook-cell:/home/rajarsi/Documents/qhaqs22/submission-repo/pennylane-code-camp/pcc-trial_v0.1.ipynb#X16sZmlsZQ%3D%3D?line=68'>69</a>\u001b[0m \u001b[39mprint\u001b[39m(calc_coefficients)\n\u001b[0;32m---> <a href='vscode-notebook-cell:/home/rajarsi/Documents/qhaqs22/submission-repo/pennylane-code-camp/pcc-trial_v0.1.ipynb#X16sZmlsZQ%3D%3D?line=70'>71</a>\u001b[0m \u001b[39mreturn\u001b[39;00m l2_norm(list_of_coeffs, calc_coefficients)\n",
      "\u001b[1;32m/home/rajarsi/Documents/qhaqs22/submission-repo/pennylane-code-camp/pcc-trial_v0.1.ipynb Cell 4\u001b[0m in \u001b[0;36mfourier_squared_distance.<locals>.<lambda>\u001b[0;34m(c1, c2)\u001b[0m\n\u001b[1;32m     <a href='vscode-notebook-cell:/home/rajarsi/Documents/qhaqs22/submission-repo/pennylane-code-camp/pcc-trial_v0.1.ipynb#X16sZmlsZQ%3D%3D?line=59'>60</a>\u001b[0m     \u001b[39mreturn\u001b[39;00m np\u001b[39m.\u001b[39marray([circuit(param_list, x_) \u001b[39mfor\u001b[39;00m x_ \u001b[39min\u001b[39;00m x])\n\u001b[1;32m     <a href='vscode-notebook-cell:/home/rajarsi/Documents/qhaqs22/submission-repo/pennylane-code-camp/pcc-trial_v0.1.ipynb#X16sZmlsZQ%3D%3D?line=61'>62</a>\u001b[0m calc_coefficients \u001b[39m=\u001b[39m fourier_coefficients(f,t, \u001b[39m3\u001b[39m)\n\u001b[0;32m---> <a href='vscode-notebook-cell:/home/rajarsi/Documents/qhaqs22/submission-repo/pennylane-code-camp/pcc-trial_v0.1.ipynb#X16sZmlsZQ%3D%3D?line=64'>65</a>\u001b[0m l2_norm \u001b[39m=\u001b[39m \u001b[39mlambda\u001b[39;00m c1,c2 :  np\u001b[39m.\u001b[39msum([ np\u001b[39m.\u001b[39mabs(c1[j] \u001b[39m-\u001b[39m c2[j])\u001b[39m*\u001b[39m\u001b[39m*\u001b[39m\u001b[39m2\u001b[39m \u001b[39mfor\u001b[39;00m j \u001b[39min\u001b[39;00m \u001b[39mrange\u001b[39m(\u001b[39mlen\u001b[39m(list_of_coeffs)) ])   \n\u001b[1;32m     <a href='vscode-notebook-cell:/home/rajarsi/Documents/qhaqs22/submission-repo/pennylane-code-camp/pcc-trial_v0.1.ipynb#X16sZmlsZQ%3D%3D?line=66'>67</a>\u001b[0m \u001b[39m# Write a function that calculates the squared l2-distance here\u001b[39;00m\n\u001b[1;32m     <a href='vscode-notebook-cell:/home/rajarsi/Documents/qhaqs22/submission-repo/pennylane-code-camp/pcc-trial_v0.1.ipynb#X16sZmlsZQ%3D%3D?line=67'>68</a>\u001b[0m \u001b[39mprint\u001b[39m(list_of_coeffs)\n",
      "\u001b[1;32m/home/rajarsi/Documents/qhaqs22/submission-repo/pennylane-code-camp/pcc-trial_v0.1.ipynb Cell 4\u001b[0m in \u001b[0;36m<listcomp>\u001b[0;34m(.0)\u001b[0m\n\u001b[1;32m     <a href='vscode-notebook-cell:/home/rajarsi/Documents/qhaqs22/submission-repo/pennylane-code-camp/pcc-trial_v0.1.ipynb#X16sZmlsZQ%3D%3D?line=59'>60</a>\u001b[0m     \u001b[39mreturn\u001b[39;00m np\u001b[39m.\u001b[39marray([circuit(param_list, x_) \u001b[39mfor\u001b[39;00m x_ \u001b[39min\u001b[39;00m x])\n\u001b[1;32m     <a href='vscode-notebook-cell:/home/rajarsi/Documents/qhaqs22/submission-repo/pennylane-code-camp/pcc-trial_v0.1.ipynb#X16sZmlsZQ%3D%3D?line=61'>62</a>\u001b[0m calc_coefficients \u001b[39m=\u001b[39m fourier_coefficients(f,t, \u001b[39m3\u001b[39m)\n\u001b[0;32m---> <a href='vscode-notebook-cell:/home/rajarsi/Documents/qhaqs22/submission-repo/pennylane-code-camp/pcc-trial_v0.1.ipynb#X16sZmlsZQ%3D%3D?line=64'>65</a>\u001b[0m l2_norm \u001b[39m=\u001b[39m \u001b[39mlambda\u001b[39;00m c1,c2 :  np\u001b[39m.\u001b[39msum([ np\u001b[39m.\u001b[39mabs(c1[j] \u001b[39m-\u001b[39m c2[j])\u001b[39m*\u001b[39m\u001b[39m*\u001b[39m\u001b[39m2\u001b[39m \u001b[39mfor\u001b[39;00m j \u001b[39min\u001b[39;00m \u001b[39mrange\u001b[39m(\u001b[39mlen\u001b[39m(list_of_coeffs)) ])   \n\u001b[1;32m     <a href='vscode-notebook-cell:/home/rajarsi/Documents/qhaqs22/submission-repo/pennylane-code-camp/pcc-trial_v0.1.ipynb#X16sZmlsZQ%3D%3D?line=66'>67</a>\u001b[0m \u001b[39m# Write a function that calculates the squared l2-distance here\u001b[39;00m\n\u001b[1;32m     <a href='vscode-notebook-cell:/home/rajarsi/Documents/qhaqs22/submission-repo/pennylane-code-camp/pcc-trial_v0.1.ipynb#X16sZmlsZQ%3D%3D?line=67'>68</a>\u001b[0m \u001b[39mprint\u001b[39m(list_of_coeffs)\n",
      "File \u001b[0;32m/usr/local/lib/python3.10/dist-packages/pennylane/numpy/tensor.py:184\u001b[0m, in \u001b[0;36mtensor.__getitem__\u001b[0;34m(self, *args, **kwargs)\u001b[0m\n\u001b[1;32m    183\u001b[0m \u001b[39mdef\u001b[39;00m \u001b[39m__getitem__\u001b[39m(\u001b[39mself\u001b[39m, \u001b[39m*\u001b[39margs, \u001b[39m*\u001b[39m\u001b[39m*\u001b[39mkwargs):\n\u001b[0;32m--> 184\u001b[0m     item \u001b[39m=\u001b[39m \u001b[39msuper\u001b[39;49m()\u001b[39m.\u001b[39;49m\u001b[39m__getitem__\u001b[39;49m(\u001b[39m*\u001b[39;49margs, \u001b[39m*\u001b[39;49m\u001b[39m*\u001b[39;49mkwargs)\n\u001b[1;32m    186\u001b[0m     \u001b[39mif\u001b[39;00m \u001b[39mnot\u001b[39;00m \u001b[39misinstance\u001b[39m(item, tensor):\n\u001b[1;32m    187\u001b[0m         item \u001b[39m=\u001b[39m tensor(item, requires_grad\u001b[39m=\u001b[39m\u001b[39mself\u001b[39m\u001b[39m.\u001b[39mrequires_grad)\n",
      "\u001b[0;31mIndexError\u001b[0m: index 4 is out of bounds for axis 0 with size 4"
     ]
    }
   ],
   "source": [
    "fourier_squared_distance([-1.12422548e-01,  0.0, 9.47909940e-02, 0.0, 0.0, 9.47909940e-02, 0.0],[2,2,2,3,4,5])"
   ]
  },
  {
   "cell_type": "code",
   "execution_count": 6,
   "metadata": {},
   "outputs": [
    {
     "name": "stdout",
     "output_type": "stream",
     "text": [
      "Running test case 0 with input '[[-1.12422548e-01,  0.0, 9.47909940e-02, 0.0, 0.0, 9.47909940e-02, 0.0],[2,2,2,3,4,5]]'...\n",
      "Runtime Error. name 'json' is not defined\n",
      "Running test case 1 with input '[[-2.51161988e-01, 0.0, 1.22546112e-01, 0.0, 0.0,  1.22546112e-01, 0.0],[1.1,0.3,0.4,0.6,0.8,0.9]]'...\n",
      "Runtime Error. name 'json' is not defined\n"
     ]
    }
   ],
   "source": [
    "# These functions are responsible for testing the solution.\n",
    "\n",
    "def run(test_case_input: str) -> str:\n",
    "\n",
    "    ins = json.loads(test_case_input)\n",
    "    output = fourier_squared_distance(*ins)\n",
    "\n",
    "    return str(output)\n",
    "\n",
    "def check(solution_output: str, expected_output: str) -> None:\n",
    "    \"\"\"\n",
    "    Compare solution with expected.\n",
    "\n",
    "    Args:\n",
    "            solution_output: The output from an evaluated solution. Will be\n",
    "            the same type as returned.\n",
    "            expected_output: The correct result for the test case.\n",
    "\n",
    "    Raises:\n",
    "            ``AssertionError`` if the solution output is incorrect in any way.\n",
    "    \"\"\"\n",
    "\n",
    "    solution_output = json.loads(solution_output)\n",
    "    expected_output = json.loads(expected_output)\n",
    "    assert np.allclose(\n",
    "        solution_output, expected_output, rtol=1e-2\n",
    "    ), \"Your calculated squared distance isn't quite right.\"\n",
    "\n",
    "test_cases = [['[[-1.12422548e-01,  0.0, 9.47909940e-02, 0.0, 0.0, 9.47909940e-02, 0.0],[2,2,2,3,4,5]]', '0.0036766085933034303'], ['[[-2.51161988e-01, 0.0, 1.22546112e-01, 0.0, 0.0,  1.22546112e-01, 0.0],[1.1,0.3,0.4,0.6,0.8,0.9]]', '0.6538589174369286']]\n",
    "\n",
    "for i, (input_, expected_output) in enumerate(test_cases):\n",
    "    print(f\"Running test case {i} with input '{input_}'...\")\n",
    "\n",
    "    try:\n",
    "        output = run(input_)\n",
    "\n",
    "    except Exception as exc:\n",
    "        print(f\"Runtime Error. {exc}\")\n",
    "\n",
    "    else:\n",
    "        if message := check(output, expected_output):\n",
    "            print(f\"Wrong Answer. Have: '{output}'. Want: '{expected_output}'.\")\n",
    "\n",
    "        else:\n",
    "            print(\"Correc-t!\")"
   ]
  },
  {
   "cell_type": "markdown",
   "metadata": {},
   "source": [
    "#### CNOT universality challenge"
   ]
  },
  {
   "cell_type": "code",
   "execution_count": 100,
   "metadata": {},
   "outputs": [],
   "source": [
    "def hadamard(wire):\n",
    "    qml.U3(np.pi, 0 ,np.pi, wires= [wire] )\n",
    "    qml.U3(np.pi/2, np.pi, np.pi, wires= [wire])\n",
    "    \n",
    "    \n",
    "    \n",
    "\n",
    "def cz(wires):\n",
    "    hadamard(wires[1])\n",
    "    qml.CNOT(wires = wires)\n",
    "    hadamard(wires[1])\n",
    "    \n",
    "def circuit():\n",
    "    \"\"\"\n",
    "    Succession of gates that will generate the requested matrix.\n",
    "    This function does not receive any arguments nor does it return any values.\n",
    "    \"\"\"\n",
    "\n",
    "    qml.U3(np.pi,0,np.pi, wires= [0])\n",
    "    cz([0,1])\n",
    "    qml.U3(np.pi,0,np.pi, wires= [0])\n",
    "    hadamard(2)\n",
    "    \n",
    "\n",
    "    \n",
    "\n",
    "    # Put your solution here ...\n",
    "    # You only have to put U3 or CNOT gates\n",
    "    "
   ]
  },
  {
   "cell_type": "code",
   "execution_count": 101,
   "metadata": {},
   "outputs": [
    {
     "name": "stdout",
     "output_type": "stream",
     "text": [
      "[[ 0.707  0.707  0.     0.     0.     0.     0.     0.   ]\n",
      " [ 0.707 -0.707  0.     0.     0.     0.     0.     0.   ]\n",
      " [ 0.     0.    -0.707 -0.707  0.     0.     0.     0.   ]\n",
      " [ 0.     0.    -0.707  0.707  0.     0.     0.     0.   ]\n",
      " [ 0.     0.     0.     0.     0.707  0.707  0.     0.   ]\n",
      " [ 0.     0.     0.     0.     0.707 -0.707  0.     0.   ]\n",
      " [ 0.     0.     0.     0.     0.     0.     0.707  0.707]\n",
      " [ 0.     0.     0.     0.     0.     0.     0.707 -0.707]]\n"
     ]
    }
   ],
   "source": [
    "np.set_printoptions(precision=3)\n",
    "a = qml.matrix(circuit)\n",
    "s = a()\n",
    "s = np.real(s)\n",
    "s[np.abs(s) < 0.00001] = 0\n",
    "print(s)"
   ]
  },
  {
   "cell_type": "code",
   "execution_count": 24,
   "metadata": {},
   "outputs": [],
   "source": [
    "import seaborn as sns"
   ]
  },
  {
   "cell_type": "code",
   "execution_count": 7,
   "metadata": {},
   "outputs": [
    {
     "data": {
      "text/plain": [
       "array([[0.9637709+0.j        , 0.       -0.26673144j],\n",
       "       [0.       -0.26673144j, 0.9637709+0.j        ]])"
      ]
     },
     "execution_count": 7,
     "metadata": {},
     "output_type": "execute_result"
    }
   ],
   "source": [
    "op = qml.RX(0.54, wires=0)\n",
    "qml.matrix(op)"
   ]
  },
  {
   "cell_type": "code",
   "execution_count": 16,
   "metadata": {},
   "outputs": [
    {
     "data": {
      "text/plain": [
       "array([[ 6.123234e-17+0.j,  0.000000e+00+0.j,  0.000000e+00-1.j,\n",
       "         0.000000e+00+0.j],\n",
       "       [ 0.000000e+00+0.j, -6.123234e-17+0.j,  0.000000e+00+0.j,\n",
       "         0.000000e+00+1.j],\n",
       "       [ 0.000000e+00-1.j,  0.000000e+00+0.j,  6.123234e-17+0.j,\n",
       "         0.000000e+00+0.j],\n",
       "       [ 0.000000e+00+0.j,  0.000000e+00+1.j,  0.000000e+00+0.j,\n",
       "        -6.123234e-17+0.j]])"
      ]
     },
     "execution_count": 16,
     "metadata": {},
     "output_type": "execute_result"
    }
   ],
   "source": [
    "def circuitt():\n",
    "    qml.RX(np.pi, wires=1)\n",
    "    qml.PauliZ(wires=0)\n",
    "matrix_fn = qml.matrix(circuitt)\n",
    "# theta = np.pi / 4\n",
    "matrix_fn()"
   ]
  },
  {
   "cell_type": "code",
   "execution_count": 17,
   "metadata": {},
   "outputs": [
    {
     "data": {
      "text/plain": [
       "array([[ 6.123234e-17+0.j,  0.000000e+00+0.j,  0.000000e+00-1.j,\n",
       "         0.000000e+00+0.j],\n",
       "       [ 0.000000e+00+0.j, -6.123234e-17+0.j,  0.000000e+00+0.j,\n",
       "         0.000000e+00+1.j],\n",
       "       [ 0.000000e+00-1.j,  0.000000e+00+0.j,  6.123234e-17+0.j,\n",
       "         0.000000e+00+0.j],\n",
       "       [ 0.000000e+00+0.j,  0.000000e+00+1.j,  0.000000e+00+0.j,\n",
       "        -6.123234e-17+0.j]])"
      ]
     },
     "execution_count": 17,
     "metadata": {},
     "output_type": "execute_result"
    }
   ],
   "source": [
    "matrix_fn()"
   ]
  },
  {
   "cell_type": "code",
   "execution_count": 18,
   "metadata": {},
   "outputs": [
    {
     "data": {
      "text/plain": [
       "<function pennylane.transforms.op_transforms.op_transform._create_wrapper.<locals>.wrapper(*args, **kwargs)>"
      ]
     },
     "execution_count": 18,
     "metadata": {},
     "output_type": "execute_result"
    }
   ],
   "source": [
    "qml.matrix(circuitt)"
   ]
  },
  {
   "cell_type": "code",
   "execution_count": null,
   "metadata": {},
   "outputs": [],
   "source": []
  }
 ],
 "metadata": {
  "kernelspec": {
   "display_name": "Python 3.10.6 64-bit",
   "language": "python",
   "name": "python3"
  },
  "language_info": {
   "codemirror_mode": {
    "name": "ipython",
    "version": 3
   },
   "file_extension": ".py",
   "mimetype": "text/x-python",
   "name": "python",
   "nbconvert_exporter": "python",
   "pygments_lexer": "ipython3",
   "version": "3.10.6"
  },
  "orig_nbformat": 4,
  "vscode": {
   "interpreter": {
    "hash": "916dbcbb3f70747c44a77c7bcd40155683ae19c65e1c03b4aa3499c5328201f1"
   }
  }
 },
 "nbformat": 4,
 "nbformat_minor": 2
}
