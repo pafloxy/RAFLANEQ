{
 "cells": [
  {
   "cell_type": "code",
   "execution_count": 1,
   "metadata": {},
   "outputs": [],
   "source": [
    "import functools\n",
    "import json\n",
    "import math\n",
    "import pandas as pd\n",
    "import pennylane as qml\n",
    "import pennylane.numpy as np\n",
    "import scipy\n",
    "import functools\n",
    "import json\n",
    "import math\n",
    "import pandas as pd\n",
    "import pennylane as qml\n",
    "import pennylane.numpy as np\n",
    "import scipy"
   ]
  },
  {
   "cell_type": "markdown",
   "metadata": {},
   "source": [
    "#### Quantum FOurier Challenge"
   ]
  },
  {
   "cell_type": "code",
   "execution_count": 5,
   "metadata": {},
   "outputs": [],
   "source": [
    "def fourier_squared_distance(list_of_coeffs, param_list):\n",
    "    \"\"\"\n",
    "    Returns the squared l2-distance in Fourier space between a function\n",
    "    characterized by its Fourier coefficients and the output of the\n",
    "    quantum model\n",
    "\n",
    "    Args:\n",
    "        list_of coeffs (list(float)): A list of seven coefficients\n",
    "                                      corresponding to the Fourier\n",
    "                                      coefficients of the function we\n",
    "                                      want to approximate\n",
    "        param_list (list(float)): A list of six parameters characterizing\n",
    "                                  the angles in the trainable circuit.\n",
    "\n",
    "    Returns: (float): Squared l2-distance between the given function\n",
    "                      and the output of the quantum model\n",
    "    \"\"\"\n",
    "\n",
    "    dev = qml.device(\"default.qubit\", wires=3)\n",
    "\n",
    "    # Feel free to define any helper functions, such as subcircuits, here.\n",
    "\n",
    "\n",
    "    def entanglers(params):\n",
    "        \"\"\" params = shape (3,1) array\"\"\"\n",
    "\n",
    "        for i, param in enumerate(params): qml.RX(param, wires=[i])\n",
    "        qml.CNOT(Wires= [0,1])\n",
    "        qml.CNOT(Wires= [1,2])\n",
    "        qml.CNOT(Wires= [2,1])\n",
    "    \n",
    "    def encoder(x):\n",
    "        for i in range(3):\n",
    "            qml.RX(x, wires=[i])\n",
    "\n",
    "    @qml.qnode(dev)\n",
    "    def circuit(param_list, x):\n",
    "        \"\"\"This circuit returns the PauliZ expectation of\n",
    "        the quantum model in the statement\"\"\"\n",
    "\n",
    "        entanglers(param_list[:3])\n",
    "\n",
    "        encoder(x)\n",
    "\n",
    "        entanglers(param_list[3:])\n",
    "\n",
    "\n",
    "        return qml.expval(qml.PauliZ(0))\n",
    "    \n",
    "    def fourier_coefficients(f,t, K):\n",
    "        \"\"\"\n",
    "        Computes the first 2*K+1 Fourier coefficients of a 2*pi periodic function.\n",
    "        \"\"\"\n",
    "        n_coeffs = 2 * K + 1\n",
    "        \n",
    "        y = np.fft.rfft(f(t)) / t.size\n",
    "        return y\n",
    "    \n",
    "    t = np.linspace(0, 2 * np.pi, 7, endpoint=False)\n",
    "    def f(x):\n",
    "        return np.array([circuit(param_list, x_) for x_ in x])\n",
    "    \n",
    "    x = np.linspace(-6, 6, 70, requires_grad=False)\n",
    "    calc_coefficients = fourier_coefficients(f,t, 7)\n",
    "\n",
    "\n",
    "    l2_norm = lambda c1,c2 :  np.sum([ np.abs(c1[j] - c2[j])**2 for j in range(len(list_of_coeffs)) ])   \n",
    "\n",
    "    # Write a function that calculates the squared l2-distance here\n",
    "\n",
    "    return l2_norm(list_of_coeffs, calc_coefficients)\n",
    "    # Return your final answer here"
   ]
  },
  {
   "cell_type": "code",
   "execution_count": 6,
   "metadata": {},
   "outputs": [
    {
     "name": "stdout",
     "output_type": "stream",
     "text": [
      "Running test case 0 with input '[[-1.12422548e-01,  0.0, 9.47909940e-02, 0.0, 0.0, 9.47909940e-02, 0.0],[2,2,2,3,4,5]]'...\n",
      "Runtime Error. name 'json' is not defined\n",
      "Running test case 1 with input '[[-2.51161988e-01, 0.0, 1.22546112e-01, 0.0, 0.0,  1.22546112e-01, 0.0],[1.1,0.3,0.4,0.6,0.8,0.9]]'...\n",
      "Runtime Error. name 'json' is not defined\n"
     ]
    }
   ],
   "source": [
    "# These functions are responsible for testing the solution.\n",
    "\n",
    "def run(test_case_input: str) -> str:\n",
    "\n",
    "    ins = json.loads(test_case_input)\n",
    "    output = fourier_squared_distance(*ins)\n",
    "\n",
    "    return str(output)\n",
    "\n",
    "def check(solution_output: str, expected_output: str) -> None:\n",
    "    \"\"\"\n",
    "    Compare solution with expected.\n",
    "\n",
    "    Args:\n",
    "            solution_output: The output from an evaluated solution. Will be\n",
    "            the same type as returned.\n",
    "            expected_output: The correct result for the test case.\n",
    "\n",
    "    Raises:\n",
    "            ``AssertionError`` if the solution output is incorrect in any way.\n",
    "    \"\"\"\n",
    "\n",
    "    solution_output = json.loads(solution_output)\n",
    "    expected_output = json.loads(expected_output)\n",
    "    assert np.allclose(\n",
    "        solution_output, expected_output, rtol=1e-2\n",
    "    ), \"Your calculated squared distance isn't quite right.\"\n",
    "\n",
    "test_cases = [['[[-1.12422548e-01,  0.0, 9.47909940e-02, 0.0, 0.0, 9.47909940e-02, 0.0],[2,2,2,3,4,5]]', '0.0036766085933034303'], ['[[-2.51161988e-01, 0.0, 1.22546112e-01, 0.0, 0.0,  1.22546112e-01, 0.0],[1.1,0.3,0.4,0.6,0.8,0.9]]', '0.6538589174369286']]\n",
    "\n",
    "for i, (input_, expected_output) in enumerate(test_cases):\n",
    "    print(f\"Running test case {i} with input '{input_}'...\")\n",
    "\n",
    "    try:\n",
    "        output = run(input_)\n",
    "\n",
    "    except Exception as exc:\n",
    "        print(f\"Runtime Error. {exc}\")\n",
    "\n",
    "    else:\n",
    "        if message := check(output, expected_output):\n",
    "            print(f\"Wrong Answer. Have: '{output}'. Want: '{expected_output}'.\")\n",
    "\n",
    "        else:\n",
    "            print(\"Correc-t!\")"
   ]
  },
  {
   "cell_type": "markdown",
   "metadata": {},
   "source": [
    "#### CNOT universality challenge"
   ]
  },
  {
   "cell_type": "code",
   "execution_count": 100,
   "metadata": {},
   "outputs": [],
   "source": [
    "def hadamard(wire):\n",
    "    qml.U3(np.pi, 0 ,np.pi, wires= [wire] )\n",
    "    qml.U3(np.pi/2, np.pi, np.pi, wires= [wire])\n",
    "    \n",
    "    \n",
    "    \n",
    "\n",
    "def cz(wires):\n",
    "    hadamard(wires[1])\n",
    "    qml.CNOT(wires = wires)\n",
    "    hadamard(wires[1])\n",
    "    \n",
    "def circuit():\n",
    "    \"\"\"\n",
    "    Succession of gates that will generate the requested matrix.\n",
    "    This function does not receive any arguments nor does it return any values.\n",
    "    \"\"\"\n",
    "\n",
    "    qml.U3(np.pi,0,np.pi, wires= [0])\n",
    "    cz([0,1])\n",
    "    qml.U3(np.pi,0,np.pi, wires= [0])\n",
    "    hadamard(2)\n",
    "    \n",
    "\n",
    "    \n",
    "\n",
    "    # Put your solution here ...\n",
    "    # You only have to put U3 or CNOT gates\n",
    "    "
   ]
  },
  {
   "cell_type": "code",
   "execution_count": 101,
   "metadata": {},
   "outputs": [
    {
     "name": "stdout",
     "output_type": "stream",
     "text": [
      "[[ 0.707  0.707  0.     0.     0.     0.     0.     0.   ]\n",
      " [ 0.707 -0.707  0.     0.     0.     0.     0.     0.   ]\n",
      " [ 0.     0.    -0.707 -0.707  0.     0.     0.     0.   ]\n",
      " [ 0.     0.    -0.707  0.707  0.     0.     0.     0.   ]\n",
      " [ 0.     0.     0.     0.     0.707  0.707  0.     0.   ]\n",
      " [ 0.     0.     0.     0.     0.707 -0.707  0.     0.   ]\n",
      " [ 0.     0.     0.     0.     0.     0.     0.707  0.707]\n",
      " [ 0.     0.     0.     0.     0.     0.     0.707 -0.707]]\n"
     ]
    }
   ],
   "source": [
    "np.set_printoptions(precision=3)\n",
    "a = qml.matrix(circuit)\n",
    "s = a()\n",
    "s = np.real(s)\n",
    "s[np.abs(s) < 0.00001] = 0\n",
    "print(s)"
   ]
  },
  {
   "cell_type": "code",
   "execution_count": 24,
   "metadata": {},
   "outputs": [],
   "source": [
    "import seaborn as sns"
   ]
  },
  {
   "cell_type": "code",
   "execution_count": 7,
   "metadata": {},
   "outputs": [
    {
     "data": {
      "text/plain": [
       "array([[0.9637709+0.j        , 0.       -0.26673144j],\n",
       "       [0.       -0.26673144j, 0.9637709+0.j        ]])"
      ]
     },
     "execution_count": 7,
     "metadata": {},
     "output_type": "execute_result"
    }
   ],
   "source": [
    "op = qml.RX(0.54, wires=0)\n",
    "qml.matrix(op)"
   ]
  },
  {
   "cell_type": "code",
   "execution_count": 16,
   "metadata": {},
   "outputs": [
    {
     "data": {
      "text/plain": [
       "array([[ 6.123234e-17+0.j,  0.000000e+00+0.j,  0.000000e+00-1.j,\n",
       "         0.000000e+00+0.j],\n",
       "       [ 0.000000e+00+0.j, -6.123234e-17+0.j,  0.000000e+00+0.j,\n",
       "         0.000000e+00+1.j],\n",
       "       [ 0.000000e+00-1.j,  0.000000e+00+0.j,  6.123234e-17+0.j,\n",
       "         0.000000e+00+0.j],\n",
       "       [ 0.000000e+00+0.j,  0.000000e+00+1.j,  0.000000e+00+0.j,\n",
       "        -6.123234e-17+0.j]])"
      ]
     },
     "execution_count": 16,
     "metadata": {},
     "output_type": "execute_result"
    }
   ],
   "source": [
    "def circuitt():\n",
    "    qml.RX(np.pi, wires=1)\n",
    "    qml.PauliZ(wires=0)\n",
    "matrix_fn = qml.matrix(circuitt)\n",
    "# theta = np.pi / 4\n",
    "matrix_fn()"
   ]
  },
  {
   "cell_type": "code",
   "execution_count": 17,
   "metadata": {},
   "outputs": [
    {
     "data": {
      "text/plain": [
       "array([[ 6.123234e-17+0.j,  0.000000e+00+0.j,  0.000000e+00-1.j,\n",
       "         0.000000e+00+0.j],\n",
       "       [ 0.000000e+00+0.j, -6.123234e-17+0.j,  0.000000e+00+0.j,\n",
       "         0.000000e+00+1.j],\n",
       "       [ 0.000000e+00-1.j,  0.000000e+00+0.j,  6.123234e-17+0.j,\n",
       "         0.000000e+00+0.j],\n",
       "       [ 0.000000e+00+0.j,  0.000000e+00+1.j,  0.000000e+00+0.j,\n",
       "        -6.123234e-17+0.j]])"
      ]
     },
     "execution_count": 17,
     "metadata": {},
     "output_type": "execute_result"
    }
   ],
   "source": [
    "matrix_fn()"
   ]
  },
  {
   "cell_type": "code",
   "execution_count": 18,
   "metadata": {},
   "outputs": [
    {
     "data": {
      "text/plain": [
       "<function pennylane.transforms.op_transforms.op_transform._create_wrapper.<locals>.wrapper(*args, **kwargs)>"
      ]
     },
     "execution_count": 18,
     "metadata": {},
     "output_type": "execute_result"
    }
   ],
   "source": [
    "qml.matrix(circuitt)"
   ]
  },
  {
   "cell_type": "code",
   "execution_count": null,
   "metadata": {},
   "outputs": [],
   "source": []
  }
 ],
 "metadata": {
  "kernelspec": {
   "display_name": "Python 3.10.6 64-bit",
   "language": "python",
   "name": "python3"
  },
  "language_info": {
   "codemirror_mode": {
    "name": "ipython",
    "version": 3
   },
   "file_extension": ".py",
   "mimetype": "text/x-python",
   "name": "python",
   "nbconvert_exporter": "python",
   "pygments_lexer": "ipython3",
   "version": "3.10.6"
  },
  "orig_nbformat": 4,
  "vscode": {
   "interpreter": {
    "hash": "916dbcbb3f70747c44a77c7bcd40155683ae19c65e1c03b4aa3499c5328201f1"
   }
  }
 },
 "nbformat": 4,
 "nbformat_minor": 2
}
