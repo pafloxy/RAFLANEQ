{
 "cells": [
  {
   "cell_type": "code",
   "execution_count": 2,
   "metadata": {},
   "outputs": [],
   "source": [
    "import json\n",
    "import pennylane as qml\n",
    "import pennylane.numpy as np\n",
    "from pennylane.math import *\n",
    "import scipy\n",
    "import numpy\n",
    "\n",
    "from math import pi\n",
    "\n",
    "from qiskit import QuantumCircuit, QuantumRegister, ClassicalRegister, \n",
    "# from "
   ]
  },
  {
   "attachments": {},
   "cell_type": "markdown",
   "metadata": {},
   "source": [
    "#### **TimBit**"
   ]
  },
  {
   "cell_type": "code",
   "execution_count": 3,
   "metadata": {},
   "outputs": [],
   "source": [
    "U_NP = [[1, 0, 0, 0], [0, 0, 0, 1], [0, 1, 0, 0], [0, 0, 1, 0]]\n",
    "\n",
    "def calculate_timbit(U, rho_0, rho, n_iters):\n",
    "    \"\"\"\n",
    "    This function will return a timbit associated to the operator U and a state passed as an attribute.\n",
    "\n",
    "    Args:\n",
    "        U (numpy.tensor): A 2-qubit gate in matrix form.\n",
    "        rho_0 (numpy.tensor): The matrix of the input density matrix.\n",
    "        rho (numpy.tensor): A guess at the fixed point C[rho] = rho.\n",
    "        n_iters (int): The number of iterations of C.\n",
    "\n",
    "    Returns:\n",
    "        (tuple(numpy.tensor)): The fixed point density matrices.\n",
    "    \"\"\"\n",
    "\n",
    "    rho_two = np.tensor( numpy.kron( rho_0.unwrap(), rho.unwrap() ) )\n",
    "\n",
    "    evolved_rho_two = np.dot( U  , np.dot(rho_two, U.transpose() ) )\n",
    "\n",
    "    return reduced_dm(evolved_rho_two, [0])\n"
   ]
  },
  {
   "cell_type": "code",
   "execution_count": null,
   "metadata": {},
   "outputs": [],
   "source": [
    "calculate_timbit(u, )"
   ]
  },
  {
   "cell_type": "code",
   "execution_count": 13,
   "metadata": {},
   "outputs": [],
   "source": [
    "u = np.tensor(U_NP)\n",
    "\n",
    "a = np.tensor([[1,0],[0,1]])\n",
    "b = np.tensor([[1,2],[2,1]])"
   ]
  },
  {
   "cell_type": "code",
   "execution_count": 20,
   "metadata": {},
   "outputs": [
    {
     "data": {
      "text/plain": [
       "tensor([[1.+0.j, 1.+0.j],\n",
       "        [0.+0.j, 0.+0.j]], requires_grad=True)"
      ]
     },
     "execution_count": 20,
     "metadata": {},
     "output_type": "execute_result"
    }
   ],
   "source": [
    "reduced_dm(u, [0])"
   ]
  },
  {
   "cell_type": "code",
   "execution_count": 5,
   "metadata": {},
   "outputs": [],
   "source": [
    "s = tensordot(a,b, axes= 0)"
   ]
  },
  {
   "cell_type": "code",
   "execution_count": 9,
   "metadata": {},
   "outputs": [
    {
     "data": {
      "text/plain": [
       "(array([[1, 0],\n",
       "        [0, 1]]),\n",
       " array([[1, 2],\n",
       "        [2, 1]]))"
      ]
     },
     "execution_count": 9,
     "metadata": {},
     "output_type": "execute_result"
    }
   ],
   "source": [
    "a.unwrap(), b.unwrap()"
   ]
  },
  {
   "cell_type": "code",
   "execution_count": 36,
   "metadata": {},
   "outputs": [
    {
     "ename": "ValueError",
     "evalue": "shapes (4,4) and (2,2,2,2) not aligned: 4 (dim 1) != 2 (dim 2)",
     "output_type": "error",
     "traceback": [
      "\u001b[0;31m---------------------------------------------------------------------------\u001b[0m",
      "\u001b[0;31mValueError\u001b[0m                                Traceback (most recent call last)",
      "Cell \u001b[0;32mIn[36], line 1\u001b[0m\n\u001b[0;32m----> 1\u001b[0m u\u001b[39m.\u001b[39;49mdot(s)\n",
      "\u001b[0;31mValueError\u001b[0m: shapes (4,4) and (2,2,2,2) not aligned: 4 (dim 1) != 2 (dim 2)"
     ]
    }
   ],
   "source": [
    "u.dot(s)"
   ]
  },
  {
   "cell_type": "code",
   "execution_count": 12,
   "metadata": {},
   "outputs": [
    {
     "data": {
      "text/plain": [
       "tensor([[1, 2, 0, 0],\n",
       "        [2, 1, 0, 0],\n",
       "        [0, 0, 1, 2],\n",
       "        [0, 0, 2, 1]], requires_grad=True)"
      ]
     },
     "execution_count": 12,
     "metadata": {},
     "output_type": "execute_result"
    }
   ],
   "source": [
    "np.tensor(numpy.kron(a.unwrap(), b.unwrap()))"
   ]
  },
  {
   "cell_type": "code",
   "execution_count": null,
   "metadata": {},
   "outputs": [],
   "source": []
  },
  {
   "attachments": {},
   "cell_type": "markdown",
   "metadata": {},
   "source": [
    "#### **FalseProof**"
   ]
  },
  {
   "cell_type": "code",
   "execution_count": 19,
   "metadata": {},
   "outputs": [],
   "source": [
    "import json\n",
    "import pennylane as qml\n",
    "import pennylane.numpy as np\n",
    "\n",
    "# dev = qml.device(\"default.qubit\", wires=2, shots=1)\n",
    "# dev.operations.add(\"op\")\n",
    "# dev.operations.add(\"C(op)\")"
   ]
  },
  {
   "cell_type": "code",
   "execution_count": 26,
   "metadata": {},
   "outputs": [
    {
     "ename": "VersionConflict",
     "evalue": "(numpy 1.24.2 (/usr/local/lib/python3.10/dist-packages), Requirement.parse('numpy<1.24'))",
     "output_type": "error",
     "traceback": [
      "\u001b[0;31m---------------------------------------------------------------------------\u001b[0m",
      "\u001b[0;31mVersionConflict\u001b[0m                           Traceback (most recent call last)",
      "Cell \u001b[0;32mIn[26], line 5\u001b[0m\n\u001b[1;32m      2\u001b[0m \u001b[39mimport\u001b[39;00m \u001b[39mpennylane\u001b[39;00m \u001b[39mas\u001b[39;00m \u001b[39mqml\u001b[39;00m\n\u001b[1;32m      3\u001b[0m \u001b[39mimport\u001b[39;00m \u001b[39mpennylane\u001b[39;00m\u001b[39m.\u001b[39;00m\u001b[39mnumpy\u001b[39;00m \u001b[39mas\u001b[39;00m \u001b[39mnp\u001b[39;00m\n\u001b[0;32m----> 5\u001b[0m dev \u001b[39m=\u001b[39m qml\u001b[39m.\u001b[39;49mdevice(\u001b[39m\"\u001b[39;49m\u001b[39mdefault.qubit\u001b[39;49m\u001b[39m\"\u001b[39;49m, wires\u001b[39m=\u001b[39;49m\u001b[39m2\u001b[39;49m, shots\u001b[39m=\u001b[39;49m\u001b[39m1\u001b[39;49m)\n\u001b[1;32m      6\u001b[0m dev\u001b[39m.\u001b[39moperations\u001b[39m.\u001b[39madd(\u001b[39m\"\u001b[39m\u001b[39mop\u001b[39m\u001b[39m\"\u001b[39m)\n\u001b[1;32m      7\u001b[0m dev\u001b[39m.\u001b[39moperations\u001b[39m.\u001b[39madd(\u001b[39m\"\u001b[39m\u001b[39mC(op)\u001b[39m\u001b[39m\"\u001b[39m)\n",
      "File \u001b[0;32m/usr/local/lib/python3.10/dist-packages/pennylane/__init__.py:316\u001b[0m, in \u001b[0;36mdevice\u001b[0;34m(name, *args, **kwargs)\u001b[0m\n\u001b[1;32m    313\u001b[0m options\u001b[39m.\u001b[39mupdate(kwargs)\n\u001b[1;32m    315\u001b[0m \u001b[39m# loads the device class\u001b[39;00m\n\u001b[0;32m--> 316\u001b[0m plugin_device_class \u001b[39m=\u001b[39m plugin_devices[name]\u001b[39m.\u001b[39;49mload()\n\u001b[1;32m    318\u001b[0m \u001b[39mif\u001b[39;00m Version(version()) \u001b[39mnot\u001b[39;00m \u001b[39min\u001b[39;00m SimpleSpec(plugin_device_class\u001b[39m.\u001b[39mpennylane_requires):\n\u001b[1;32m    319\u001b[0m     \u001b[39mraise\u001b[39;00m DeviceError(\n\u001b[1;32m    320\u001b[0m         \u001b[39mf\u001b[39m\u001b[39m\"\u001b[39m\u001b[39mThe \u001b[39m\u001b[39m{\u001b[39;00mname\u001b[39m}\u001b[39;00m\u001b[39m plugin requires PennyLane versions \u001b[39m\u001b[39m{\u001b[39;00mplugin_device_class\u001b[39m.\u001b[39mpennylane_requires\u001b[39m}\u001b[39;00m\u001b[39m, \u001b[39m\u001b[39m\"\u001b[39m\n\u001b[1;32m    321\u001b[0m         \u001b[39mf\u001b[39m\u001b[39m\"\u001b[39m\u001b[39mhowever PennyLane version \u001b[39m\u001b[39m{\u001b[39;00m__version__\u001b[39m}\u001b[39;00m\u001b[39m is installed.\u001b[39m\u001b[39m\"\u001b[39m\n\u001b[1;32m    322\u001b[0m     )\n",
      "File \u001b[0;32m/usr/lib/python3/dist-packages/pkg_resources/__init__.py:2464\u001b[0m, in \u001b[0;36mEntryPoint.load\u001b[0;34m(self, require, *args, **kwargs)\u001b[0m\n\u001b[1;32m   2457\u001b[0m     warnings\u001b[39m.\u001b[39mwarn(\n\u001b[1;32m   2458\u001b[0m         \u001b[39m\"\u001b[39m\u001b[39mParameters to load are deprecated.  Call .resolve and \u001b[39m\u001b[39m\"\u001b[39m\n\u001b[1;32m   2459\u001b[0m         \u001b[39m\"\u001b[39m\u001b[39m.require separately.\u001b[39m\u001b[39m\"\u001b[39m,\n\u001b[1;32m   2460\u001b[0m         PkgResourcesDeprecationWarning,\n\u001b[1;32m   2461\u001b[0m         stacklevel\u001b[39m=\u001b[39m\u001b[39m2\u001b[39m,\n\u001b[1;32m   2462\u001b[0m     )\n\u001b[1;32m   2463\u001b[0m \u001b[39mif\u001b[39;00m require:\n\u001b[0;32m-> 2464\u001b[0m     \u001b[39mself\u001b[39;49m\u001b[39m.\u001b[39;49mrequire(\u001b[39m*\u001b[39;49margs, \u001b[39m*\u001b[39;49m\u001b[39m*\u001b[39;49mkwargs)\n\u001b[1;32m   2465\u001b[0m \u001b[39mreturn\u001b[39;00m \u001b[39mself\u001b[39m\u001b[39m.\u001b[39mresolve()\n",
      "File \u001b[0;32m/usr/lib/python3/dist-packages/pkg_resources/__init__.py:2487\u001b[0m, in \u001b[0;36mEntryPoint.require\u001b[0;34m(self, env, installer)\u001b[0m\n\u001b[1;32m   2481\u001b[0m \u001b[39m# Get the requirements for this entry point with all its extras and\u001b[39;00m\n\u001b[1;32m   2482\u001b[0m \u001b[39m# then resolve them. We have to pass `extras` along when resolving so\u001b[39;00m\n\u001b[1;32m   2483\u001b[0m \u001b[39m# that the working set knows what extras we want. Otherwise, for\u001b[39;00m\n\u001b[1;32m   2484\u001b[0m \u001b[39m# dist-info distributions, the working set will assume that the\u001b[39;00m\n\u001b[1;32m   2485\u001b[0m \u001b[39m# requirements for that extra are purely optional and skip over them.\u001b[39;00m\n\u001b[1;32m   2486\u001b[0m reqs \u001b[39m=\u001b[39m \u001b[39mself\u001b[39m\u001b[39m.\u001b[39mdist\u001b[39m.\u001b[39mrequires(\u001b[39mself\u001b[39m\u001b[39m.\u001b[39mextras)\n\u001b[0;32m-> 2487\u001b[0m items \u001b[39m=\u001b[39m working_set\u001b[39m.\u001b[39;49mresolve(reqs, env, installer, extras\u001b[39m=\u001b[39;49m\u001b[39mself\u001b[39;49m\u001b[39m.\u001b[39;49mextras)\n\u001b[1;32m   2488\u001b[0m \u001b[39mlist\u001b[39m(\u001b[39mmap\u001b[39m(working_set\u001b[39m.\u001b[39madd, items))\n",
      "File \u001b[0;32m/usr/lib/python3/dist-packages/pkg_resources/__init__.py:782\u001b[0m, in \u001b[0;36mWorkingSet.resolve\u001b[0;34m(self, requirements, env, installer, replace_conflicting, extras)\u001b[0m\n\u001b[1;32m    779\u001b[0m \u001b[39mif\u001b[39;00m dist \u001b[39mnot\u001b[39;00m \u001b[39min\u001b[39;00m req:\n\u001b[1;32m    780\u001b[0m     \u001b[39m# Oops, the \"best\" so far conflicts with a dependency\u001b[39;00m\n\u001b[1;32m    781\u001b[0m     dependent_req \u001b[39m=\u001b[39m required_by[req]\n\u001b[0;32m--> 782\u001b[0m     \u001b[39mraise\u001b[39;00m VersionConflict(dist, req)\u001b[39m.\u001b[39mwith_context(dependent_req)\n\u001b[1;32m    784\u001b[0m \u001b[39m# push the new requirements onto the stack\u001b[39;00m\n\u001b[1;32m    785\u001b[0m new_requirements \u001b[39m=\u001b[39m dist\u001b[39m.\u001b[39mrequires(req\u001b[39m.\u001b[39mextras)[::\u001b[39m-\u001b[39m\u001b[39m1\u001b[39m]\n",
      "\u001b[0;31mVersionConflict\u001b[0m: (numpy 1.24.2 (/usr/local/lib/python3.10/dist-packages), Requirement.parse('numpy<1.24'))"
     ]
    }
   ],
   "source": [
    "import json\n",
    "import pennylane as qml\n",
    "import pennylane.numpy as np\n",
    "\n",
    "dev = qml.device(\"default.qubit\", wires=2, shots=1)\n",
    "dev.operations.add(\"op\")\n",
    "dev.operations.add(\"C(op)\")\n",
    "\n",
    "\n",
    "@qml.qnode(dev)\n",
    "def circuit(U):\n",
    "    \"\"\"This will be the circuit you will use to determine which of the two angles we have.\n",
    "    Remember that only a single shot will be executed.\n",
    "\n",
    "    Args:\n",
    "        U (qml.ops): It is the gate to discriminate between  RY(2pi/3) or RY(4pi/3).\n",
    "\n",
    "    Returns:\n",
    "        (numpy.tensor): Vector of two elements representing the output measured in each of the qubits.\n",
    "    \"\"\"\n",
    "    # Put your code here #\n",
    "    # to use U,  call 'U(wires = <wire where you want to apply the gate>)'\n",
    "    # to use Control-U, call 'qml.ctrl(U, control = <control wire>)(wires = <wire where you want to apply the gate>)'\n",
    "    return qml.sample(wires=range(2))\n",
    "\n",
    "def process_output(measurement):\n",
    "    \"\"\"This function processes the output of the circuit to discriminate between gates.\n",
    "\n",
    "    Args:\n",
    "        measurement (numpy.array): Output of the previous circuit a vector of dimension 2.\n",
    "\n",
    "    Returns:\n",
    "        (int): return 2 or 4 depending on the associated RY gate.\n",
    "    \"\"\"\n",
    "    # Put your code here #\n",
    "\n",
    "\n",
    "# These functions are responsible for testing the solution.\n",
    "def run(test_case_input: str) -> str:\n",
    "    return None\n",
    "\n",
    "def check(solution_output: str, expected_output: str) -> None:\n",
    "    numbers = 2 * np.random.randint(1, 3, 5000)\n",
    "\n",
    "    def U2(wires):\n",
    "        class op(qml.operation.Operator):\n",
    "            num_wires = 1\n",
    "\n",
    "            def compute_decomposition(self, wires):\n",
    "                raise ValueError(\"You cannot decompose this gate\")\n",
    "\n",
    "            def matrix(self):\n",
    "                return qml.matrix(qml.RY(2 * np.pi / 3, wires=3))\n",
    "\n",
    "        op(wires=wires)\n",
    "        return None\n",
    "\n",
    "    def U4(wires):\n",
    "        class op(qml.operation.Operator):\n",
    "            num_wires = 1\n",
    "\n",
    "            def compute_decomposition(self, wires):\n",
    "                raise ValueError(\"You cannot decompose this gate\")\n",
    "\n",
    "            def matrix(self):\n",
    "                return qml.matrix(qml.RY(4 * np.pi / 3, wires=3))\n",
    "\n",
    "        op(wires=wires)\n",
    "        return None\n",
    "\n",
    "    output = []\n",
    "    for i in numbers:\n",
    "        if i == 2:\n",
    "            U = U2\n",
    "        else:\n",
    "            U = U4\n",
    "        out = circuit(U)\n",
    "        output.append(process_output(out))\n",
    "\n",
    "    assert np.allclose(\n",
    "        output, numbers, rtol=1e-4\n",
    "    ), \"Your circuit does not give the correct output.\"\n",
    "\n",
    "\n",
    "test_cases = [['No input', 'No output']]\n",
    "\n",
    "for i, (input_, expected_output) in enumerate(test_cases):\n",
    "    print(f\"Running test case {i} with input '{input_}'...\")\n",
    "\n",
    "    try:\n",
    "        output = run(input_)\n",
    "\n",
    "    except Exception as exc:\n",
    "        print(f\"Runtime Error. {exc}\")\n",
    "\n",
    "    else:\n",
    "        if message := check(output, expected_output):\n",
    "            print(f\"Wrong Answer. Have: '{output}'. Want: '{expected_output}'.\")\n",
    "\n",
    "        else:\n",
    "            print(\"Correct!\")"
   ]
  },
  {
   "cell_type": "code",
   "execution_count": 22,
   "metadata": {},
   "outputs": [],
   "source": [
    "def U2(wires):\n",
    "        class op(qml.operation.Operator):\n",
    "            num_wires = 1\n",
    "\n",
    "            def compute_decomposition(self, wires):\n",
    "                raise ValueError(\"You cannot decompose this gate\")\n",
    "\n",
    "            def matrix(self):\n",
    "                return qml.matrix(qml.RY(2 * np.pi / 3, wires=3))\n",
    "\n",
    "        op(wires=wires)\n",
    "        return None"
   ]
  },
  {
   "cell_type": "code",
   "execution_count": 24,
   "metadata": {},
   "outputs": [
    {
     "ename": "NameError",
     "evalue": "name 'circuit' is not defined",
     "output_type": "error",
     "traceback": [
      "\u001b[0;31m---------------------------------------------------------------------------\u001b[0m",
      "\u001b[0;31mNameError\u001b[0m                                 Traceback (most recent call last)",
      "Cell \u001b[0;32mIn[24], line 1\u001b[0m\n\u001b[0;32m----> 1\u001b[0m circuit(U2)\n",
      "\u001b[0;31mNameError\u001b[0m: name 'circuit' is not defined"
     ]
    }
   ],
   "source": [
    "circuit(U2)"
   ]
  },
  {
   "cell_type": "code",
   "execution_count": 7,
   "metadata": {},
   "outputs": [],
   "source": [
    "from qiskit.circuit.library import RYGate"
   ]
  },
  {
   "cell_type": "code",
   "execution_count": 15,
   "metadata": {},
   "outputs": [],
   "source": [
    "a = RYGate(2*pi/3).to_matrix(); b = RYGate(4*pi/3).to_matrix()"
   ]
  },
  {
   "cell_type": "code",
   "execution_count": 17,
   "metadata": {},
   "outputs": [
    {
     "data": {
      "text/plain": [
       "array([[ 0.5      +0.j, -0.8660254+0.j],\n",
       "       [ 0.8660254+0.j,  0.5      +0.j]])"
      ]
     },
     "execution_count": 17,
     "metadata": {},
     "output_type": "execute_result"
    }
   ],
   "source": [
    "a"
   ]
  },
  {
   "cell_type": "code",
   "execution_count": 18,
   "metadata": {},
   "outputs": [
    {
     "data": {
      "text/plain": [
       "array([[-0.5      +0.j, -0.8660254+0.j],\n",
       "       [ 0.8660254+0.j, -0.5      +0.j]])"
      ]
     },
     "execution_count": 18,
     "metadata": {},
     "output_type": "execute_result"
    }
   ],
   "source": [
    "b"
   ]
  },
  {
   "cell_type": "code",
   "execution_count": 16,
   "metadata": {},
   "outputs": [
    {
     "data": {
      "text/plain": [
       "((array([0.5+0.8660254j, 0.5-0.8660254j]),\n",
       "  array([[ 7.07106781e-01+0.j        ,  7.07106781e-01+0.j        ],\n",
       "         [-0.00000000e+00-0.70710678j, -2.22044605e-16+0.70710678j]])),\n",
       " (array([-0.5+0.8660254j, -0.5-0.8660254j]),\n",
       "  array([[ 0.70710678+0.j        ,  0.        -0.70710678j],\n",
       "         [-0.        -0.70710678j,  0.70710678+0.j        ]])))"
      ]
     },
     "execution_count": 16,
     "metadata": {},
     "output_type": "execute_result"
    }
   ],
   "source": [
    "numpy.linalg.eig(a), numpy.linalg.eig(b)"
   ]
  },
  {
   "cell_type": "code",
   "execution_count": 36,
   "metadata": {},
   "outputs": [
    {
     "data": {
      "text/plain": [
       "(0.3660254037844385, 0.6339745962155615)"
      ]
     },
     "execution_count": 36,
     "metadata": {},
     "output_type": "execute_result"
    }
   ],
   "source": [
    "nrm = np.abs(1 + numpy.exp( 4j* pi / 3)) +  np.abs(1 - numpy.exp( 4j* pi / 3))\n",
    "\n",
    "np.abs(1 + numpy.exp( 4j* pi / 3)) / nrm,  np.abs(1 - numpy.exp( 4j* pi / 3)) / nrm"
   ]
  },
  {
   "cell_type": "code",
   "execution_count": 31,
   "metadata": {},
   "outputs": [
    {
     "data": {
      "text/plain": [
       "1j"
      ]
     },
     "execution_count": 31,
     "metadata": {},
     "output_type": "execute_result"
    }
   ],
   "source": []
  },
  {
   "attachments": {},
   "cell_type": "markdown",
   "metadata": {},
   "source": [
    "#### **Desperate Measures**"
   ]
  },
  {
   "cell_type": "code",
   "execution_count": 13,
   "metadata": {},
   "outputs": [],
   "source": [
    "from qiskit.circuit import Parameter\n",
    "from qiskit.compiler import transpiler, transpile\n",
    "basic_g = ['ry', 'rz', 'rx', 'cx']\n",
    "jz = Parameter('jz');jx = Parameter('jx');jy = Parameter('jy')"
   ]
  },
  {
   "cell_type": "code",
   "execution_count": 93,
   "metadata": {},
   "outputs": [
    {
     "data": {
      "text/plain": [
       "ParameterExpression(jz/2)"
      ]
     },
     "execution_count": 93,
     "metadata": {},
     "output_type": "execute_result"
    }
   ],
   "source": [
    "jz/2"
   ]
  },
  {
   "cell_type": "code",
   "execution_count": 102,
   "metadata": {},
   "outputs": [],
   "source": [
    "qc = QuantumCircuit(4)\n",
    "for trtr in range(1):\n",
    "    for i in range(4):\n",
    "        qc.rxx(jx, i,(i+1)%4)\n",
    "    # qc.barrier()\n",
    "    # for i in range(4):\n",
    "        qc.ryy(jy, i,(i+1)%4)\n",
    "    # qc.barrier()\n",
    "    # for i in range(4):\n",
    "        qc.rzz(jz, i,(i+1)%4)\n",
    "\n",
    "        "
   ]
  },
  {
   "cell_type": "code",
   "execution_count": 103,
   "metadata": {},
   "outputs": [
    {
     "data": {
      "text/plain": [
       "(     ┌──────────┐┌──────────┐                                          »\n",
       " q_0: ┤0         ├┤0         ├─■────────────────────────────────────────»\n",
       "      │  Rxx(jx) ││  Ryy(jy) │ │ZZ(jz) ┌──────────┐┌──────────┐         »\n",
       " q_1: ┤1         ├┤1         ├─■───────┤0         ├┤0         ├─■───────»\n",
       "      └──────────┘└──────────┘         │  Rxx(jx) ││  Ryy(jy) │ │ZZ(jz) »\n",
       " q_2: ─────────────────────────────────┤1         ├┤1         ├─■───────»\n",
       "                                       └──────────┘└──────────┘         »\n",
       " q_3: ──────────────────────────────────────────────────────────────────»\n",
       "                                                                        »\n",
       " «                                      ┌──────────┐┌──────────┐         \n",
       " «q_0: ─────────────────────────────────┤1         ├┤1         ├─■───────\n",
       " «                                      │          ││          │ │       \n",
       " «q_1: ─────────────────────────────────┤          ├┤          ├─┼───────\n",
       " «     ┌──────────┐┌──────────┐         │  Rxx(jx) ││  Ryy(jy) │ │       \n",
       " «q_2: ┤0         ├┤0         ├─■───────┤          ├┤          ├─┼───────\n",
       " «     │  Rxx(jx) ││  Ryy(jy) │ │ZZ(jz) │          ││          │ │ZZ(jz) \n",
       " «q_3: ┤1         ├┤1         ├─■───────┤0         ├┤0         ├─■───────\n",
       " «     └──────────┘└──────────┘         └──────────┘└──────────┘         ,\n",
       " 12,\n",
       " 24)"
      ]
     },
     "execution_count": 103,
     "metadata": {},
     "output_type": "execute_result"
    }
   ],
   "source": [
    "qc.draw(), qc.num_nonlocal_gates(), qc.decompose().num_nonlocal_gates()"
   ]
  },
  {
   "cell_type": "code",
   "execution_count": 104,
   "metadata": {},
   "outputs": [
    {
     "data": {
      "text/plain": [
       "(     ┌─────────┐┌───────┐                    ┌──────────┐┌─────────┐     »\n",
       " q_0: ┤ Ry(π/2) ├┤ Rx(π) ├──■──────────────■──┤ Rz(-π/2) ├┤ Ry(π/2) ├──■──»\n",
       "      ├─────────┤├───────┤┌─┴─┐┌────────┐┌─┴─┐├──────────┤├─────────┤┌─┴─┐»\n",
       " q_1: ┤ Ry(π/2) ├┤ Rx(π) ├┤ X ├┤ Rz(jx) ├┤ X ├┤ Rz(-π/2) ├┤ Ry(π/2) ├┤ X ├»\n",
       "      ├─────────┤├───────┤└───┘└────────┘└───┘└──────────┘└─────────┘└───┘»\n",
       " q_2: ┤ Ry(π/2) ├┤ Rx(π) ├────────────────────────────────────────────────»\n",
       "      ├─────────┤├───────┤                                                »\n",
       " q_3: ┤ Ry(π/2) ├┤ Rx(π) ├────────────────────────────────────────────────»\n",
       "      └─────────┘└───────┘                                                »\n",
       " «     ┌──────────┐┌──────────┐     ┌─────────┐     ┌─────────┐┌───────┐     »\n",
       " «q_0: ┤ Ry(-π/2) ├┤ Rz(-π/2) ├──■──┤ Ry(π/2) ├──■──┤ Ry(π/2) ├┤ Rx(π) ├─────»\n",
       " «     └┬────────┬┘└┬────────┬┘┌─┴─┐└┬────────┤┌─┴─┐├─────────┤├───────┤     »\n",
       " «q_1: ─┤ Rz(jy) ├──┤ Rx(-π) ├─┤ X ├─┤ Rz(jz) ├┤ X ├┤ Ry(π/2) ├┤ Rx(π) ├──■──»\n",
       " «      └────────┘  └────────┘ └───┘ └────────┘└───┘└─────────┘└───────┘┌─┴─┐»\n",
       " «q_2: ─────────────────────────────────────────────────────────────────┤ X ├»\n",
       " «                                                                      └───┘»\n",
       " «q_3: ──────────────────────────────────────────────────────────────────────»\n",
       " «                                                                           »\n",
       " «                                                                             »\n",
       " «q_0: ────────────────────────────────────────────────────────────────────────»\n",
       " «                    ┌──────────┐┌─────────┐     ┌──────────┐┌──────────┐     »\n",
       " «q_1: ────────────■──┤ Rz(-π/2) ├┤ Ry(π/2) ├──■──┤ Ry(-π/2) ├┤ Rz(-π/2) ├──■──»\n",
       " «     ┌────────┐┌─┴─┐├──────────┤├─────────┤┌─┴─┐└┬────────┬┘└┬────────┬┘┌─┴─┐»\n",
       " «q_2: ┤ Rz(jx) ├┤ X ├┤ Rz(-π/2) ├┤ Ry(π/2) ├┤ X ├─┤ Rz(jy) ├──┤ Rx(-π) ├─┤ X ├»\n",
       " «     └────────┘└───┘└──────────┘└─────────┘└───┘ └────────┘  └────────┘ └───┘»\n",
       " «q_3: ────────────────────────────────────────────────────────────────────────»\n",
       " «                                                                             »\n",
       " «                                                                         »\n",
       " «q_0: ────────────────────────────────────────────────────────────────────»\n",
       " «     ┌─────────┐                                                         »\n",
       " «q_1: ┤ Ry(π/2) ├──■──────────────────────────────────────────────────────»\n",
       " «     └┬────────┤┌─┴─┐┌─────────┐┌───────┐                    ┌──────────┐»\n",
       " «q_2: ─┤ Rz(jz) ├┤ X ├┤ Ry(π/2) ├┤ Rx(π) ├──■──────────────■──┤ Rz(-π/2) ├»\n",
       " «      └────────┘└───┘└─────────┘└───────┘┌─┴─┐┌────────┐┌─┴─┐├──────────┤»\n",
       " «q_3: ────────────────────────────────────┤ X ├┤ Rz(jx) ├┤ X ├┤ Rz(-π/2) ├»\n",
       " «                                         └───┘└────────┘└───┘└──────────┘»\n",
       " «                                                                             »\n",
       " «q_0: ────────────────────────────────────────────────────────────────────────»\n",
       " «                                                                             »\n",
       " «q_1: ────────────────────────────────────────────────────────────────────────»\n",
       " «     ┌─────────┐     ┌──────────┐┌──────────┐     ┌─────────┐                »\n",
       " «q_2: ┤ Ry(π/2) ├──■──┤ Ry(-π/2) ├┤ Rz(-π/2) ├──■──┤ Ry(π/2) ├──■─────────────»\n",
       " «     ├─────────┤┌─┴─┐└┬────────┬┘└┬────────┬┘┌─┴─┐└┬────────┤┌─┴─┐┌─────────┐»\n",
       " «q_3: ┤ Ry(π/2) ├┤ X ├─┤ Rz(jy) ├──┤ Rx(-π) ├─┤ X ├─┤ Rz(jz) ├┤ X ├┤ Ry(π/2) ├»\n",
       " «     └─────────┘└───┘ └────────┘  └────────┘ └───┘ └────────┘└───┘└─────────┘»\n",
       " «              ┌───┐┌────────┐┌───┐┌──────────┐┌─────────┐┌───┐ ┌────────┐ »\n",
       " «q_0: ─────────┤ X ├┤ Rz(jx) ├┤ X ├┤ Rz(-π/2) ├┤ Ry(π/2) ├┤ X ├─┤ Rz(jy) ├─»\n",
       " «              └─┬─┘└────────┘└─┬─┘└──────────┘└─────────┘└─┬─┘ └────────┘ »\n",
       " «q_1: ───────────┼──────────────┼───────────────────────────┼──────────────»\n",
       " «                │              │                           │              »\n",
       " «q_2: ───────────┼──────────────┼───────────────────────────┼──────────────»\n",
       " «     ┌───────┐  │              │  ┌──────────┐┌─────────┐  │  ┌──────────┐»\n",
       " «q_3: ┤ Rx(π) ├──■──────────────■──┤ Rz(-π/2) ├┤ Ry(π/2) ├──■──┤ Rx(-π/2) ├»\n",
       " «     └───────┘                    └──────────┘└─────────┘     └──────────┘»\n",
       " «     ┌──────────┐┌────────┐     ┌─────────┐┌────────┐┌───┐\n",
       " «q_0: ┤ Ry(-π/2) ├┤ Rz(-π) ├──■──┤ Ry(π/2) ├┤ Rz(jz) ├┤ X ├\n",
       " «     └──────────┘└────────┘  │  └─────────┘└────────┘└─┬─┘\n",
       " «q_1: ────────────────────────┼─────────────────────────┼──\n",
       " «                             │                         │  \n",
       " «q_2: ────────────────────────┼─────────────────────────┼──\n",
       " «                           ┌─┴─┐                       │  \n",
       " «q_3: ──────────────────────┤ X ├───────────────────────■──\n",
       " «                           └───┘                          ,\n",
       " 20)"
      ]
     },
     "execution_count": 104,
     "metadata": {},
     "output_type": "execute_result"
    }
   ],
   "source": [
    "qc_trns = transpile(qc, basis_gates= basic_g, optimization_level= 3)\n",
    "qc_trns.draw(output= 'text'), qc_trns.num_nonlocal_gates()"
   ]
  },
  {
   "cell_type": "code",
   "execution_count": 65,
   "metadata": {},
   "outputs": [],
   "source": [
    "# qc_trns.qasm(True)"
   ]
  },
  {
   "cell_type": "code",
   "execution_count": null,
   "metadata": {},
   "outputs": [],
   "source": [
    "num_wires = 4\n",
    "dev = qml.device(\"default.mixed\", wires=num_wires)\n",
    "\n",
    "@qml.qnode(dev)\n",
    "def heisenberg_trotter(couplings, p, time, depth):\n",
    "    \"\"\"This QNode returns the final state of the spin chain after evolution for a time t, \n",
    "    under the Trotter approximation of the exponential of the Heisenberg Hamiltonian.\n",
    "    \n",
    "    Args:\n",
    "        couplings (list(float)): \n",
    "            An array of length 4 that contains the coupling constants and the magnetic field \n",
    "            strength, in the order [J_x, J_y, J_z, h].\n",
    "        p (float): The depolarization probability after each CNOT gate.\n",
    "        depth (int): The Trotterization depth.\n",
    "        time (float): Time during which the state evolves\n",
    "\n",
    "    Returns:\n",
    "        (numpy.tensor): The evolved quantum state.\n",
    "\n",
    "    \"\"\"\n",
    "    jx = couplings[0]; jy = couplings[1]; jz = couplings[2]; h = couplings[3]\n",
    "    for i in range(4):\n",
    "        qml.RY( np.pi /2 , wires= i)\n",
    "        qml.RX(np.pi, wires= i)\n",
    "    for i in range(4):\n",
    "        qml.CNOT(wires= [i, (i+1)%4])\n",
    "        qml.RZ(jx, wires= [(i+1)%4])\n",
    "        qml.CNOT(wires= [i, (i+1)%4])\n",
    "    for i in range(4):\n",
    "        qml.RY( np.pi /2 , wires= i)\n",
    "        qml.RX(np.pi, wires= i)\n",
    "\n",
    "    for i in range(4):\n",
    "        qml.RX(np.pi/2, wires= [i])\n",
    "    for i in range(4):\n",
    "        qml.CNOT(wires= [i, (i+1)%4])\n",
    "        qml.RZ(jy, wires= [(i+1)%4])\n",
    "        qml.CNOT(wires= [i, (i+1)%4])\n",
    "    for i in range(4):\n",
    "        qml.RX(-1 * np.pi/2, wires= [i])\n",
    "\n",
    "    for i in range(4):\n",
    "        qml.CNOT(wires= [i, (i+1)%4])\n",
    "        qml.RZ(jz, wires= [(i+1)%4])\n",
    "        qml.CNOT(wires= [i, (i+1)%4])\n",
    "    "
   ]
  }
 ],
 "metadata": {
  "kernelspec": {
   "display_name": "Python 3",
   "language": "python",
   "name": "python3"
  },
  "language_info": {
   "codemirror_mode": {
    "name": "ipython",
    "version": 3
   },
   "file_extension": ".py",
   "mimetype": "text/x-python",
   "name": "python",
   "nbconvert_exporter": "python",
   "pygments_lexer": "ipython3",
   "version": "3.10.6"
  },
  "orig_nbformat": 4,
  "vscode": {
   "interpreter": {
    "hash": "916dbcbb3f70747c44a77c7bcd40155683ae19c65e1c03b4aa3499c5328201f1"
   }
  }
 },
 "nbformat": 4,
 "nbformat_minor": 2
}
